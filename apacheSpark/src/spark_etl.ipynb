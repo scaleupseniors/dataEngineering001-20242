{
 "cells": [
  {
   "cell_type": "code",
   "execution_count": 14,
   "id": "6bca02e1-595c-4799-92b7-59bca8465943",
   "metadata": {},
   "outputs": [
    {
     "name": "stdout",
     "output_type": "stream",
     "text": [
      "Requirement already satisfied: pyspark==3.2.0 in /opt/conda/lib/python3.12/site-packages (3.2.0)\n",
      "Requirement already satisfied: requests in /opt/conda/lib/python3.12/site-packages (2.32.3)\n",
      "Requirement already satisfied: py4j==0.10.9.2 in /opt/conda/lib/python3.12/site-packages (from pyspark==3.2.0) (0.10.9.2)\n",
      "Requirement already satisfied: charset_normalizer<4,>=2 in /opt/conda/lib/python3.12/site-packages (from requests) (3.4.1)\n",
      "Requirement already satisfied: idna<4,>=2.5 in /opt/conda/lib/python3.12/site-packages (from requests) (3.10)\n",
      "Requirement already satisfied: urllib3<3,>=1.21.1 in /opt/conda/lib/python3.12/site-packages (from requests) (2.3.0)\n",
      "Requirement already satisfied: certifi>=2017.4.17 in /opt/conda/lib/python3.12/site-packages (from requests) (2024.12.14)\n",
      "Note: you may need to restart the kernel to use updated packages.\n"
     ]
    }
   ],
   "source": [
    "%pip install pyspark==3.2.0, requests"
   ]
  },
  {
   "cell_type": "code",
   "execution_count": 15,
   "id": "4bec9399-170a-4c12-8d52-7f8fd7d74d7d",
   "metadata": {},
   "outputs": [],
   "source": [
    "from pyspark.sql import SparkSession, DataFrame\n",
    "from pyspark.sql.types import *\n",
    "from requests import get"
   ]
  },
  {
   "cell_type": "code",
   "execution_count": 7,
   "id": "9b0b4c96-45e6-40e8-9b57-fd06c8bc886e",
   "metadata": {},
   "outputs": [],
   "source": [
    "postgres_jar = \"/usr/local/spark/jars/postgresql-42.3.8.jar\""
   ]
  },
  {
   "cell_type": "code",
   "execution_count": 8,
   "id": "4cfea079-10b6-4942-ae7b-adbf9a2a5011",
   "metadata": {},
   "outputs": [
    {
     "name": "stderr",
     "output_type": "stream",
     "text": [
      "WARNING: An illegal reflective access operation has occurred\n",
      "WARNING: Illegal reflective access by org.apache.spark.unsafe.Platform (file:/usr/local/spark-3.2.0-bin-hadoop3.2/jars/spark-unsafe_2.12-3.2.0.jar) to constructor java.nio.DirectByteBuffer(long,int)\n",
      "WARNING: Please consider reporting this to the maintainers of org.apache.spark.unsafe.Platform\n",
      "WARNING: Use --illegal-access=warn to enable warnings of further illegal reflective access operations\n",
      "WARNING: All illegal access operations will be denied in a future release\n",
      "25/01/19 23:57:56 WARN NativeCodeLoader: Unable to load native-hadoop library for your platform... using builtin-java classes where applicable\n",
      "Using Spark's default log4j profile: org/apache/spark/log4j-defaults.properties\n",
      "Setting default log level to \"WARN\".\n",
      "To adjust logging level use sc.setLogLevel(newLevel). For SparkR, use setLogLevel(newLevel).\n"
     ]
    }
   ],
   "source": [
    "spark = (\n",
    "    SparkSession\n",
    "    .builder\n",
    "    .appName(\"An Spark application\")\n",
    "    .config(\"spark.jars\", postgres_jar)\n",
    "    .getOrCreate()\n",
    ")"
   ]
  },
  {
   "cell_type": "code",
   "execution_count": 9,
   "id": "462ab0be-3f72-4ea1-82e4-36e12410d0cd",
   "metadata": {},
   "outputs": [],
   "source": [
    "jdbc_url = \"jdbc:postgresql://postgres-db:5432/downstream\"\n",
    "db_properties = {\n",
    "    \"user\": \"admin\",\n",
    "    \"password\": \"secret\",\n",
    "    \"driver\": \"org.postgresql.Driver\"\n",
    "}"
   ]
  },
  {
   "cell_type": "code",
   "execution_count": 11,
   "id": "57c7d59c-e0da-4ffc-a3e2-9ad6f308a8bf",
   "metadata": {},
   "outputs": [],
   "source": [
    "schema = StructType([\n",
    "    StructField(\"Game\", StringType(), nullable=True),\n",
    "    StructField(\"Year\", IntegerType(), nullable=True),\n",
    "    StructField(\"Genre\", StringType(), nullable=True),\n",
    "    StructField(\"Publisher\", StringType(), nullable=True),\n",
    "    StructField(\"North America\", DoubleType(), nullable=True),\n",
    "    StructField(\"Europe\", DoubleType(), nullable=True),\n",
    "    StructField(\"Japan\", DoubleType(), nullable=True),\n",
    "    StructField(\"Rest of world\", DoubleType(), nullable=True),\n",
    "    StructField(\"Global\", DoubleType(), nullable=True)\n",
    "])"
   ]
  },
  {
   "cell_type": "markdown",
   "id": "31585550-0cdd-4fbc-853f-7b9d1e96d37c",
   "metadata": {},
   "source": [
    "## Creando la tabla de videojuegos en PSQL"
   ]
  },
  {
   "cell_type": "code",
   "execution_count": 12,
   "id": "3edefed7-319f-4399-9728-d85b618bf1a0",
   "metadata": {},
   "outputs": [],
   "source": [
    "df = spark.read.option(\"header\", True).csv(\"/home/jovyan/data/PS4_GamesSales.csv\")"
   ]
  },
  {
   "cell_type": "code",
   "execution_count": 13,
   "id": "99403ad9-ecfb-407b-933b-07eb3789ed2c",
   "metadata": {},
   "outputs": [],
   "source": [
    "df.write.jdbc(url=jdbc_url, table=\"Games\", mode=\"overwrite\", properties=db_properties)"
   ]
  },
  {
   "cell_type": "markdown",
   "id": "d0b48d9a-789c-4f1b-ba50-b7e87f6659ce",
   "metadata": {},
   "source": [
    "## ETL con Spark\n",
    "Hagamos una ETL usando Spark.\n",
    "1. Extraemos de MongoDB, nuestro upstream.\n",
    "2. Realicemos las siguientes transformaciones sobre los datos:\n",
    "3. Cargamos a PostgreSQL, nuestro downstream."
   ]
  },
  {
   "cell_type": "code",
   "execution_count": 20,
   "id": "79d7401e-7845-4c2a-803b-8f088f8436b2",
   "metadata": {},
   "outputs": [],
   "source": [
    "API_KEY = \"4f1e6cf579d44b7db3fe6d6505c54b2b\""
   ]
  },
  {
   "cell_type": "code",
   "execution_count": 26,
   "id": "7558dd2d-6c32-4af8-bb1b-d1d028f3a8f2",
   "metadata": {},
   "outputs": [],
   "source": [
    "def get_news(url: str, search_term: str, date_from: str, api_key: str):\n",
    "    return get(url.format(search_term, date_from, api_key)).json()"
   ]
  },
  {
   "cell_type": "code",
   "execution_count": 34,
   "id": "bb8ed03d-6217-4936-8bb9-e3a38d4ac283",
   "metadata": {},
   "outputs": [
    {
     "data": {
      "text/plain": [
       "[{'source': {'id': None, 'name': 'Newsbreak.com'},\n",
       "  'author': 'Brett Rowland | The Center Square',\n",
       "  'title': \"Report: Federal government can't fully account for its 'unsustainable' spending - NewsBreak\",\n",
       "  'description': \"(The Center Square) – A Congressional watchdog says it is again unable to determine if the federal government's financial statements are reliable. The fed\",\n",
       "  'url': 'https://www.newsbreak.com/share/3767247761179-report-federal-government-can-t-fully-account-for-its-unsustainable-spending?_f=app_share&pd=0GOkyYtn&lang=en_US&send_time=1737245806&trans_data=%7B%22platform%22%3A0%2C%22cv%22%3A%2225.3.0.29%22%2C%22languages%22%3A%22en%22%7D&sep=ns_foryou_blend_exp_25q1-v2%2Cns_foryou_model_exp_25q1-v2%2Cns_foryou_rank_exp_25q1-v3%2Cns_foryou_recall_exp_25q1-v5%2Cns_push_exp_rt_bucketv12-v1&s=i2',\n",
       "  'urlToImage': 'https://img.particlenews.com/img/id/3CHFvx_0yFyNcEn00',\n",
       "  'publishedAt': '2025-01-19T00:24:36Z',\n",
       "  'content': \"(The Center Square) A Congressional watchdog says it is again unable to determine if the federal government's financial statements are reliable. \\r\\n The federal government reported net costs of $7.4 t… [+2282 chars]\"},\n",
       " {'source': {'id': None, 'name': 'Biztoc.com'},\n",
       "  'author': 'youtube.com',\n",
       "  'title': 'Billionaire bromance: Elon Musk & Jeff Bezos team up',\n",
       "  'description': 'Is there a budding bromance between Elon Musk & Jeff Bezos? After years of rivalry, the two billionaires are exchanging ...',\n",
       "  'url': 'https://biztoc.com/x/feed5ff71e23873f',\n",
       "  'urlToImage': 'https://biztoc.com/cdn/feed5ff71e23873f_s.webp',\n",
       "  'publishedAt': '2025-01-19T00:17:44Z',\n",
       "  'content': 'Is there a budding bromance between Elon Musk &amp; Jeff Bezos? After years of rivalry, the two billionaires are exchanging ...\\r\\nThis story appeared on youtube.com, 2025-01-18 23:12:37.'},\n",
       " {'source': {'id': None, 'name': 'Newsbreak.com'},\n",
       "  'author': 'Brett Rowland | The Center Square',\n",
       "  'title': \"Report: Federal government can't fully account for its 'unsustainable' spending - NewsBreak\",\n",
       "  'description': \"(The Center Square) – A Congressional watchdog says it is again unable to determine if the federal government's financial statements are reliable. The fed\",\n",
       "  'url': 'https://www.newsbreak.com/share/3767247761179-report-federal-government-can-t-fully-account-for-its-unsustainable-spending?_f=app_share&pd=00blTmeh&lang=en_US&send_time=1737245681&trans_data=%7B%22platform%22%3A0%2C%22cv%22%3A%2225.3.0.29%22%2C%22languages%22%3A%22en%22%7D&sep=ns_foryou_model_exp_25q1-v2%2Cns_foryou_recall_exp_25q1-v5%2Cns_push_exp_rt_bucketv12-v5%2Cns_foryou_blend_exp_25q1-v4%2Cns_foryou_rank_exp_25q1-v9&s=i2',\n",
       "  'urlToImage': 'https://img.particlenews.com/img/id/3CHFvx_0yFyNcEn00',\n",
       "  'publishedAt': '2025-01-19T00:16:09Z',\n",
       "  'content': \"(The Center Square) A Congressional watchdog says it is again unable to determine if the federal government's financial statements are reliable. \\r\\n The federal government reported net costs of $7.4 t… [+2282 chars]\"}]"
      ]
     },
     "execution_count": 34,
     "metadata": {},
     "output_type": "execute_result"
    }
   ],
   "source": [
    "news_url = \"https://newsapi.org/v2/everything?q={}&from={}&sortBy=publishedAt&apiKey={}\"\n",
    "get_news(news_url, \"elon musk\", \"2024-12-20\", API_KEY)[\"articles\"][0:3]"
   ]
  }
 ],
 "metadata": {
  "kernelspec": {
   "display_name": "Python 3 (ipykernel)",
   "language": "python",
   "name": "python3"
  },
  "language_info": {
   "codemirror_mode": {
    "name": "ipython",
    "version": 3
   },
   "file_extension": ".py",
   "mimetype": "text/x-python",
   "name": "python",
   "nbconvert_exporter": "python",
   "pygments_lexer": "ipython3",
   "version": "3.12.8"
  }
 },
 "nbformat": 4,
 "nbformat_minor": 5
}
