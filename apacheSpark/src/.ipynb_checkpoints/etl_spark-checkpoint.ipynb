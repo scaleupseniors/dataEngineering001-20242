{
 "cells": [
  {
   "cell_type": "code",
   "execution_count": 1,
   "metadata": {
    "vscode": {
     "languageId": "plaintext"
    }
   },
   "outputs": [
    {
     "name": "stdout",
     "output_type": "stream",
     "text": [
      "Collecting pyspark==3.2.0\n",
      "  Downloading pyspark-3.2.0.tar.gz (281.3 MB)\n",
      "\u001b[2K     \u001b[90m━━━━━━━━━━━━━━━━━━━━━━━━━━━━━━━━━━━━━━\u001b[0m \u001b[32m281.3/281.3 MB\u001b[0m \u001b[31m10.5 MB/s\u001b[0m eta \u001b[36m0:00:00\u001b[0m00:01\u001b[0m00:01\u001b[0m\n",
      "  Preparing metadata (setup.py) ... \u001b[?25ldone\n",
      "\u001b[?25hCollecting py4j==0.10.9.2 (from pyspark==3.2.0)\n",
      "  Downloading py4j-0.10.9.2-py2.py3-none-any.whl.metadata (1.3 kB)\n",
      "Downloading py4j-0.10.9.2-py2.py3-none-any.whl (198 kB)\n",
      "Building wheels for collected packages: pyspark\n",
      "  Buidone\n",
      "\u001b[?25h  Created wheel for pyspark: filename=pyspark-3.2.0-py2.py3-none-any.whl size=281805953 sha256=0bcba81361e25c06da382975770851c53539378402310b94cbf01558a54d5fa6\n",
      "  Stored in directory: /home/jovyan/.cache/pip/wheels/ec/e3/5e/b357eb100224fa7f5da845bd31419d9e1140be90cfde6ed560\n",
      "Successfully built pyspark\n",
      "Installing collected packages: py4j, pyspark\n",
      "Successfully installed py4j-0.10.9.2 pyspark-3.2.0\n",
      "Note: you may need to restart the kernel to use updated packages.\n"
     ]
    }
   ],
   "source": [
    "%pip install pyspark==3.2.0"
   ]
  },
  {
   "cell_type": "code",
   "execution_count": 2,
   "metadata": {
    "vscode": {
     "languageId": "plaintext"
    }
   },
   "outputs": [
    {
     "name": "stdout",
     "output_type": "stream",
     "text": [
      "3.2.0\n"
     ]
    }
   ],
   "source": [
    "import pyspark\n",
    "print(pyspark.__version__)"
   ]
  },
  {
   "cell_type": "code",
   "execution_count": 3,
   "metadata": {
    "vscode": {
     "languageId": "plaintext"
    }
   },
   "outputs": [],
   "source": [
    "from pyspark.sql import SparkSession\n",
    "from pyspark.sql.types import *"
   ]
  },
  {
   "cell_type": "code",
   "execution_count": 4,
   "metadata": {
    "vscode": {
     "languageId": "plaintext"
    }
   },
   "outputs": [
    {
     "name": "stderr",
     "output_type": "stream",
     "text": [
      "WARNING: An illegal reflective access operation has occurred\n",
      "WARNING: Illegal reflective access by org.apache.spark.unsafe.Platform (file:/usr/local/spark-3.2.0-bin-hadoop3.2/jars/spark-unsafe_2.12-3.2.0.jar) to constructor java.nio.DirectByteBuffer(long,int)\n",
      "WARNING: Please consider reporting this to the maintainers of org.apache.spark.unsafe.Platform\n",
      "WARNING: Use --illegal-access=warn to enable warnings of further illegal reflective access operations\n",
      "WARNING: All illegal access operations will be denied in a future release\n",
      "Using Spark's default log4j profile: org/apache/spark/log4j-defaults.properties\n",
      "Setting default log level to \"WARN\".\n",
      "To adjust logging level use sc.setLogLevel(newLevel). For SparkR, use setLogLevel(newLevel).\n",
      "25/01/19 06:16:57 WARN NativeCodeLoader: Unable to load native-hadoop library for your platform... using builtin-java classes where applicable\n"
     ]
    }
   ],
   "source": [
    "spark = (\n",
    "    SparkSession\n",
    "    .builder\n",
    "    .appName(\"An Spark application\")\n",
    "    .getOrCreate()\n",
    ")"
   ]
  },
  {
   "cell_type": "code",
   "execution_count": 5,
   "metadata": {
    "vscode": {
     "languageId": "plaintext"
    }
   },
   "outputs": [],
   "source": [
    "read_opts = {\n",
    "    \"header\": \"true\",\n",
    "    \"delimiter\": \",\",\n",
    "    \"inferSchema\": \"false\"\n",
    "}"
   ]
  },
  {
   "cell_type": "code",
   "execution_count": 6,
   "metadata": {
    "vscode": {
     "languageId": "plaintext"
    }
   },
   "outputs": [],
   "source": [
    "schema = StructType([\n",
    "    StructField(\"Game\", StringType(), nullable=True),\n",
    "    StructField(\"Year\", IntegerType(), nullable=True),\n",
    "    StructField(\"Genre\", StringType(), nullable=True),\n",
    "    StructField(\"Publisher\", StringType(), nullable=True),\n",
    "    StructField(\"North America\", DoubleType(), nullable=True),\n",
    "    StructField(\"Europe\", DoubleType(), nullable=True),\n",
    "    StructField(\"Japan\", DoubleType(), nullable=True),\n",
    "    StructField(\"Rest of world\", DoubleType(), nullable=True),\n",
    "    StructField(\"Global\", DoubleType(), nullable=True)\n",
    "])"
   ]
  },
  {
   "cell_type": "code",
   "execution_count": 25,
   "metadata": {
    "vscode": {
     "languageId": "plaintext"
    }
   },
   "outputs": [],
   "source": [
    "df = spark.read.options(**read_opts).schema(schema).csv(\"/home/jovyan/data/PS4_GamesSales.csv\")"
   ]
  },
  {
   "cell_type": "code",
   "execution_count": 8,
   "metadata": {
    "vscode": {
     "languageId": "plaintext"
    }
   },
   "outputs": [
    {
     "name": "stdout",
     "output_type": "stream",
     "text": [
      "+-------------------------+----+----------------+--------------+-------------+------+-----+-------------+------+\n",
      "|Game                     |Year|Genre           |Publisher     |North America|Europe|Japan|Rest of world|Global|\n",
      "+-------------------------+----+----------------+--------------+-------------+------+-----+-------------+------+\n",
      "|Grand Theft Auto V       |2014|Action          |Rockstar Games|6.06         |9.71  |0.6  |3.02         |19.39 |\n",
      "|Call of Duty: Black Ops 3|2015|Shooter         |Activision    |6.18         |6.05  |0.41 |2.44         |15.09 |\n",
      "|Red Dead Redemption 2    |2018|Action-Adventure|Rockstar Games|5.26         |6.21  |0.21 |2.26         |13.94 |\n",
      "|Call of Duty: WWII       |2017|Shooter         |Activision    |4.67         |6.21  |0.4  |2.12         |13.4  |\n",
      "|FIFA 18                  |2017|Sports          |EA Sports     |1.27         |8.64  |0.15 |1.73         |11.8  |\n",
      "+-------------------------+----+----------------+--------------+-------------+------+-----+-------------+------+\n",
      "only showing top 5 rows\n",
      "\n"
     ]
    }
   ],
   "source": [
    "df.show(5, truncate=False)"
   ]
  },
  {
   "cell_type": "code",
   "execution_count": 9,
   "metadata": {
    "vscode": {
     "languageId": "plaintext"
    }
   },
   "outputs": [
    {
     "data": {
      "text/plain": [
       "209"
      ]
     },
     "execution_count": 9,
     "metadata": {},
     "output_type": "execute_result"
    }
   ],
   "source": [
    "df.filter(df[\"Year\"].isNull()).count()"
   ]
  },
  {
   "cell_type": "code",
   "execution_count": 10,
   "metadata": {
    "vscode": {
     "languageId": "plaintext"
    }
   },
   "outputs": [
    {
     "data": {
      "text/plain": [
       "{'Game': 0,\n",
       " 'Year': 209,\n",
       " 'Genre': 0,\n",
       " 'Publisher': 209,\n",
       " 'North America': 0,\n",
       " 'Europe': 0,\n",
       " 'Japan': 0,\n",
       " 'Rest of world': 0,\n",
       " 'Global': 0}"
      ]
     },
     "execution_count": 10,
     "metadata": {},
     "output_type": "execute_result"
    }
   ],
   "source": [
    "nulls: dict[str, int] = {col: df.filter(df[col].isNull()).count() for col in df.columns}\n",
    "nulls"
   ]
  },
  {
   "cell_type": "markdown",
   "metadata": {},
   "source": [
    "## Otra cosa bacana de Spark\n",
    "Hay otra cosa bacana de Spark y es que nos permite usar SQL como Data Manipulation Language (DML)."
   ]
  },
  {
   "cell_type": "code",
   "execution_count": 26,
   "metadata": {},
   "outputs": [],
   "source": [
    "df.createOrReplaceTempView(\"Games\")  # Creamos una vista temporal de nuestro dataframe"
   ]
  },
  {
   "cell_type": "code",
   "execution_count": 27,
   "metadata": {},
   "outputs": [
    {
     "name": "stdout",
     "output_type": "stream",
     "text": [
      "+-----------+\n",
      "|count(Year)|\n",
      "+-----------+\n",
      "|        825|\n",
      "+-----------+\n",
      "\n"
     ]
    }
   ],
   "source": [
    "spark.sql(\"SELECT COUNT(Year) FROM Games WHERE Year IS NOT NULL;\").show(5)"
   ]
  },
  {
   "cell_type": "code",
   "execution_count": 41,
   "metadata": {},
   "outputs": [
    {
     "data": {
      "text/plain": [
       "DataFrame[]"
      ]
     },
     "execution_count": 41,
     "metadata": {},
     "output_type": "execute_result"
    }
   ],
   "source": [
    "spark.sql(\"CREATE OR REPLACE TEMP VIEW GamesWoNulls AS SELECT * FROM Games WHERE Year IS NOT NULL;\")"
   ]
  },
  {
   "cell_type": "code",
   "execution_count": 36,
   "metadata": {},
   "outputs": [
    {
     "name": "stdout",
     "output_type": "stream",
     "text": [
      "+----+----+-----+---------+-------------+------+-----+-------------+------+\n",
      "|Game|Year|Genre|Publisher|North America|Europe|Japan|Rest of world|Global|\n",
      "+----+----+-----+---------+-------------+------+-----+-------------+------+\n",
      "+----+----+-----+---------+-------------+------+-----+-------------+------+\n",
      "\n"
     ]
    }
   ],
   "source": [
    "spark.sql(\"SELECT * FROM GamesWoNulls WHERE Year IS NULL\").show()"
   ]
  },
  {
   "cell_type": "code",
   "execution_count": 37,
   "metadata": {},
   "outputs": [],
   "source": [
    "df_wo_nulls = spark.sql(\"SELECT * FROM GamesWoNulls\")  # Let's pass the view back to df"
   ]
  },
  {
   "cell_type": "code",
   "execution_count": 38,
   "metadata": {},
   "outputs": [
    {
     "name": "stdout",
     "output_type": "stream",
     "text": [
      "+--------------------+----+----------------+--------------------+-------------+------+-----+-------------+------+\n",
      "|                Game|Year|           Genre|           Publisher|North America|Europe|Japan|Rest of world|Global|\n",
      "+--------------------+----+----------------+--------------------+-------------+------+-----+-------------+------+\n",
      "|  Grand Theft Auto V|2014|          Action|      Rockstar Games|         6.06|  9.71|  0.6|         3.02| 19.39|\n",
      "|Call of Duty: Bla...|2015|         Shooter|          Activision|         6.18|  6.05| 0.41|         2.44| 15.09|\n",
      "|Red Dead Redempti...|2018|Action-Adventure|      Rockstar Games|         5.26|  6.21| 0.21|         2.26| 13.94|\n",
      "|  Call of Duty: WWII|2017|         Shooter|          Activision|         4.67|  6.21|  0.4|         2.12|  13.4|\n",
      "|             FIFA 18|2017|          Sports|           EA Sports|         1.27|  8.64| 0.15|         1.73|  11.8|\n",
      "|             FIFA 17|2016|          Sports|     Electronic Arts|         1.26|  7.95| 0.12|         1.61| 10.94|\n",
      "|     Uncharted (PS4)|2016|          Action|Sony Interactive ...|         4.49|  3.93| 0.21|          1.7| 10.33|\n",
      "|    Spider-Man (PS4)|2018|Action-Adventure|Sony Interactive ...|         3.64|  3.39| 0.32|         1.41|  8.76|\n",
      "|Call of Duty: Inf...|2016|         Shooter|          Activision|         3.11|  3.83| 0.19|         1.36|  8.48|\n",
      "|           Fallout 4|2015|    Role-Playing|  Bethesda Softworks|         2.91|  3.97| 0.27|         1.34|  8.48|\n",
      "|             FIFA 16|2015|          Sports|           EA Sports|         1.15|  5.77| 0.07|         1.23|  8.22|\n",
      "|Star Wars Battlef...|2015|         Shooter|     Electronic Arts|         3.31|  3.19| 0.23|          1.3|  8.03|\n",
      "|Call of Duty: Adv...|2014|         Shooter|          Activision|         2.84|  3.34| 0.14|         1.22|  7.53|\n",
      "|       Battlefield 1|2016|         Shooter|     Electronic Arts|          2.2|  3.65| 0.29|         1.12|  7.26|\n",
      "|      The Last of Us|2014|Action-Adventure|Sony Computer Ent...|          2.7|  2.86| 0.11|          1.1|  6.77|\n",
      "|           MineCraft|2014|            Misc|Sony Computer Ent...|         1.89|  3.13| 0.35|         0.96|  6.33|\n",
      "|             FIFA 15|2014|          Sports|           EA Sports|         0.83|  4.49| 0.05|         0.94|  6.32|\n",
      "|    God of War (PS4)|2018|          Action|Sony Interactive ...|         2.83|  2.17| 0.13|         1.02|  6.15|\n",
      "|  Horizon: Zero Dawn|2017|          Action|Sony Interactive ...|          2.2|  2.43| 0.28|         0.92|  5.82|\n",
      "|             Destiny|2014|         Shooter|          Activision|         2.53|  2.13| 0.16|         0.94|  5.76|\n",
      "+--------------------+----+----------------+--------------------+-------------+------+-----+-------------+------+\n",
      "only showing top 20 rows\n",
      "\n"
     ]
    }
   ],
   "source": [
    "df_wo_nulls.show()"
   ]
  },
  {
   "cell_type": "markdown",
   "metadata": {},
   "source": [
    "## Transformaciones:\n",
    "Hagamos algunas transformaciones sobre los datos.\n",
    "1. Eliminemos todas las filas que contengan datos nulos.\n",
    "2. Queremos solo los videojuegos que su Publisher sea Sony o EA."
   ]
  },
  {
   "cell_type": "code",
   "execution_count": 43,
   "metadata": {},
   "outputs": [],
   "source": [
    "filter_data_query = \"\"\"\n",
    "SELECT * FROM Games\n",
    "WHERE Genre LIKE '%Sony%' or Genre LIKE '%EA%' or Genre == 'Electronic Arts' \n",
    "\"\"\""
   ]
  },
  {
   "cell_type": "code",
   "execution_count": 44,
   "metadata": {},
   "outputs": [
    {
     "data": {
      "text/plain": [
       "DataFrame[]"
      ]
     },
     "execution_count": 44,
     "metadata": {},
     "output_type": "execute_result"
    }
   ],
   "source": [
    "spark.sql(f\"CREATE OR REPLACE TEMP VIEW filtered AS {filter_data_query}\")"
   ]
  },
  {
   "cell_type": "code",
   "execution_count": 45,
   "metadata": {},
   "outputs": [
    {
     "name": "stdout",
     "output_type": "stream",
     "text": [
      "+----+----+-----+---------+-------------+------+-----+-------------+------+\n",
      "|Game|Year|Genre|Publisher|North America|Europe|Japan|Rest of world|Global|\n",
      "+----+----+-----+---------+-------------+------+-----+-------------+------+\n",
      "+----+----+-----+---------+-------------+------+-----+-------------+------+\n",
      "\n"
     ]
    }
   ],
   "source": [
    "spark.sql(\"SELECT * FROM filtered\").show()"
   ]
  }
 ],
 "metadata": {
  "kernelspec": {
   "display_name": "Python 3 (ipykernel)",
   "language": "python",
   "name": "python3"
  },
  "language_info": {
   "codemirror_mode": {
    "name": "ipython",
    "version": 3
   },
   "file_extension": ".py",
   "mimetype": "text/x-python",
   "name": "python",
   "nbconvert_exporter": "python",
   "pygments_lexer": "ipython3",
   "version": "3.12.8"
  }
 },
 "nbformat": 4,
 "nbformat_minor": 4
}
