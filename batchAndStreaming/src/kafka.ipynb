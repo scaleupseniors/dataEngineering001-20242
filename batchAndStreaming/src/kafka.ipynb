{
 "cells": [
  {
   "cell_type": "code",
   "execution_count": 1,
   "id": "36103b4f-ad63-4461-bab1-6ade63f08cd8",
   "metadata": {},
   "outputs": [
    {
     "name": "stdout",
     "output_type": "stream",
     "text": [
      "Collecting confluent-kafka\n",
      "  Downloading confluent_kafka-2.8.0-cp312-cp312-manylinux_2_28_x86_64.whl.metadata (21 kB)\n",
      "Downloading confluent_kafka-2.8.0-cp312-cp312-manylinux_2_28_x86_64.whl (3.8 MB)\n",
      "\u001b[2K   \u001b[90m━━━━━━━━━━━━━━━━━━━━━━━━━━━━━━━━━━━━━━━━\u001b[0m \u001b[32m3.8/3.8 MB\u001b[0m \u001b[31m16.1 MB/s\u001b[0m eta \u001b[36m0:00:00\u001b[0ma \u001b[36m0:00:01\u001b[0m\n",
      "Installing collected packages: confluent-kafka\n",
      "Successfully installed confluent-kafka-2.8.0\n"
     ]
    }
   ],
   "source": [
    "!pip install confluent-kafka"
   ]
  },
  {
   "cell_type": "code",
   "execution_count": 17,
   "id": "2c8a5044-9792-4c7e-8f95-5723b49646b7",
   "metadata": {},
   "outputs": [],
   "source": [
    "from IPython.display import Image"
   ]
  },
  {
   "cell_type": "markdown",
   "id": "a5ee1003-a2d7-49aa-b6a7-528f79007664",
   "metadata": {},
   "source": [
    "# Apache Kafka"
   ]
  },
  {
   "cell_type": "markdown",
   "id": "0a68758c-5a5b-4a14-85d3-e68906b1108c",
   "metadata": {},
   "source": [
    "## ¿Qué es Kafka?"
   ]
  },
  {
   "cell_type": "markdown",
   "id": "bc1196d3-a370-4dbb-a5ee-bf746853ab32",
   "metadata": {},
   "source": [
    "Apache Kafka es un servicio de colas de mensajeria.\n",
    "Este servicio ayuda al desacoplamiento de los componentes de la arquitectura, ademas, es una cola que persiste los datos durante un tiempo definido.\n",
    "\n",
    "Particularmente, Kafka, es un sistema altamente usado para procesamiento de datos en tiempo real. \n",
    "\n",
    "La siguiente imagen muestra la arquitectura interna de "
   ]
  },
  {
   "cell_type": "code",
   "execution_count": 18,
   "id": "83f197e5-577c-4e05-a555-92e1fb7d98b2",
   "metadata": {},
   "outputs": [
    {
     "data": {
      "text/html": [
       "<img src=\"https://media.geeksforgeeks.org/wp-content/uploads/20240604175624/Kafka-Architecture-01-01-1024.webp\"/>"
      ],
      "text/plain": [
       "<IPython.core.display.Image object>"
      ]
     },
     "execution_count": 18,
     "metadata": {},
     "output_type": "execute_result"
    }
   ],
   "source": [
    "Image(url=\"https://media.geeksforgeeks.org/wp-content/uploads/20240604175624/Kafka-Architecture-01-01-1024.webp\")"
   ]
  },
  {
   "cell_type": "markdown",
   "id": "508073e9-658e-484b-9af3-ae9201021e60",
   "metadata": {},
   "source": [
    "Como se puede ver, Kafka no posee un nodo maestro (centralizado) el cual coordine el acceso a los brokers, mas bien, cada uno de los brokers colabora a la hora de coordinar el acceso y envio de informacion (arquitectura distribuida tipo 3).\n",
    "\n",
    "Cuando un consumidor o productor necesita enviar o recibir un mensaje se conecta a uno de los brokers por medio de una IP, en caso de que dicho broker posea el topico le da el mensaje al cliente, en caso contrario, el broker redirige al cliente al broker que tiene el topico requerido."
   ]
  },
  {
   "cell_type": "markdown",
   "id": "e381dea6-6937-48fd-ba84-c3bfebaaa34c",
   "metadata": {},
   "source": [
    "# Usemos Kafka"
   ]
  },
  {
   "cell_type": "code",
   "execution_count": 2,
   "id": "9d01158f-ece7-4b1f-9602-d7a9be41f63c",
   "metadata": {},
   "outputs": [],
   "source": [
    "from confluent_kafka import Producer, KafkaError, Consumer"
   ]
  },
  {
   "cell_type": "code",
   "execution_count": 4,
   "id": "f5cd662d-1043-4a30-b992-f3ff770148b2",
   "metadata": {},
   "outputs": [],
   "source": [
    "config = {\n",
    "    'bootstrap.servers': 'kafka:9092',\n",
    "    'group.id': 'my-group',\n",
    "    'auto.offset.reset': 'earliest'\n",
    "}"
   ]
  },
  {
   "cell_type": "markdown",
   "id": "a03d39ae-2083-4d58-8932-7f3d6fa53598",
   "metadata": {},
   "source": [
    "## Produzcamos mensajes"
   ]
  },
  {
   "cell_type": "code",
   "execution_count": 7,
   "id": "c7d70c6f-d389-42f6-ac19-6bcbb23ebc6e",
   "metadata": {},
   "outputs": [],
   "source": [
    "def acked(err, msg):\n",
    "    if err is not None:\n",
    "        print(f\"Mensaje no enviado: {err}\")\n",
    "    else:\n",
    "        print(f\"Mensaje enviado: {msg.topic()} [{msg.partition()}]\")"
   ]
  },
  {
   "cell_type": "code",
   "execution_count": 5,
   "id": "f10afa37-1598-4a70-82a6-7499b124ed98",
   "metadata": {},
   "outputs": [
    {
     "name": "stderr",
     "output_type": "stream",
     "text": [
      "%4|1738078816.149|CONFWARN|rdkafka#producer-1| [thrd:app]: Configuration property group.id is a consumer property and will be ignored by this producer instance\n",
      "%4|1738078816.149|CONFWARN|rdkafka#producer-1| [thrd:app]: Configuration property auto.offset.reset is a consumer property and will be ignored by this producer instance\n"
     ]
    }
   ],
   "source": [
    "producer = Producer(config)"
   ]
  },
  {
   "cell_type": "code",
   "execution_count": 15,
   "id": "509860f5-2d2f-4a75-80c2-6a8f6800471e",
   "metadata": {},
   "outputs": [],
   "source": [
    "producer.produce('test-topic', value='A new message', callback=acked)"
   ]
  },
  {
   "cell_type": "code",
   "execution_count": 10,
   "id": "00a25d8b-fe17-464b-8b6d-1ed0889cab6f",
   "metadata": {},
   "outputs": [
    {
     "name": "stdout",
     "output_type": "stream",
     "text": [
      "Mensaje enviado: test-topic [0]\n"
     ]
    },
    {
     "data": {
      "text/plain": [
       "0"
      ]
     },
     "execution_count": 10,
     "metadata": {},
     "output_type": "execute_result"
    }
   ],
   "source": [
    "producer.flush()  # confirms all messages where sent and confirmed by kafka"
   ]
  },
  {
   "cell_type": "markdown",
   "id": "9a824a9c-e82e-4c83-800f-33a4ca90e3b9",
   "metadata": {},
   "source": [
    "## Veamos los mensajes"
   ]
  },
  {
   "cell_type": "code",
   "execution_count": 11,
   "id": "3fc06019-ad83-4fcf-89d7-677f5d16c8ec",
   "metadata": {},
   "outputs": [],
   "source": [
    "consumer = Consumer(config)"
   ]
  },
  {
   "cell_type": "code",
   "execution_count": 12,
   "id": "ff594693-27ba-4477-8604-2974a731fbbb",
   "metadata": {},
   "outputs": [],
   "source": [
    "consumer.subscribe(['test-topic'])"
   ]
  },
  {
   "cell_type": "code",
   "execution_count": 16,
   "id": "0fdedaa2-f661-469b-ae15-804639f016f3",
   "metadata": {},
   "outputs": [
    {
     "data": {
      "text/plain": [
       "'A new message'"
      ]
     },
     "execution_count": 16,
     "metadata": {},
     "output_type": "execute_result"
    },
    {
     "name": "stderr",
     "output_type": "stream",
     "text": [
      "%4|1738079743.718|MAXPOLL|rdkafka#consumer-2| [thrd:main]: Application maximum poll interval (300000ms) exceeded by 259ms (adjust max.poll.interval.ms for long-running message processing): leaving group\n"
     ]
    }
   ],
   "source": [
    "msg = consumer.poll()\n",
    "msg.value().decode(\"utf-8\")"
   ]
  }
 ],
 "metadata": {
  "kernelspec": {
   "display_name": "Python 3 (ipykernel)",
   "language": "python",
   "name": "python3"
  },
  "language_info": {
   "codemirror_mode": {
    "name": "ipython",
    "version": 3
   },
   "file_extension": ".py",
   "mimetype": "text/x-python",
   "name": "python",
   "nbconvert_exporter": "python",
   "pygments_lexer": "ipython3",
   "version": "3.12.8"
  }
 },
 "nbformat": 4,
 "nbformat_minor": 5
}
